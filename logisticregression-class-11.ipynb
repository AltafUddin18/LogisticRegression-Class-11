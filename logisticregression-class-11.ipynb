{
 "cells": [
  {
   "cell_type": "markdown",
   "id": "9c599e0e",
   "metadata": {
    "execution": {
     "iopub.execute_input": "2023-05-22T14:23:06.811688Z",
     "iopub.status.busy": "2023-05-22T14:23:06.811276Z",
     "iopub.status.idle": "2023-05-22T14:23:06.816947Z",
     "shell.execute_reply": "2023-05-22T14:23:06.815778Z",
     "shell.execute_reply.started": "2023-05-22T14:23:06.811652Z"
    },
    "papermill": {
     "duration": 0.006474,
     "end_time": "2023-05-22T14:43:28.996679",
     "exception": false,
     "start_time": "2023-05-22T14:43:28.990205",
     "status": "completed"
    },
    "tags": []
   },
   "source": [
    "# Class 11"
   ]
  },
  {
   "cell_type": "code",
   "execution_count": 1,
   "id": "d7591dec",
   "metadata": {
    "execution": {
     "iopub.execute_input": "2023-05-22T14:43:29.011543Z",
     "iopub.status.busy": "2023-05-22T14:43:29.010659Z",
     "iopub.status.idle": "2023-05-22T14:43:29.025718Z",
     "shell.execute_reply": "2023-05-22T14:43:29.024433Z"
    },
    "papermill": {
     "duration": 0.025464,
     "end_time": "2023-05-22T14:43:29.028551",
     "exception": false,
     "start_time": "2023-05-22T14:43:29.003087",
     "status": "completed"
    },
    "tags": []
   },
   "outputs": [],
   "source": [
    "import pandas as pd \n",
    "import matplotlib.pyplot as plt"
   ]
  },
  {
   "cell_type": "code",
   "execution_count": 2,
   "id": "52322099",
   "metadata": {
    "execution": {
     "iopub.execute_input": "2023-05-22T14:43:29.042381Z",
     "iopub.status.busy": "2023-05-22T14:43:29.041999Z",
     "iopub.status.idle": "2023-05-22T14:43:29.063597Z",
     "shell.execute_reply": "2023-05-22T14:43:29.062552Z"
    },
    "papermill": {
     "duration": 0.031671,
     "end_time": "2023-05-22T14:43:29.066335",
     "exception": false,
     "start_time": "2023-05-22T14:43:29.034664",
     "status": "completed"
    },
    "tags": []
   },
   "outputs": [],
   "source": [
    "df = pd.read_csv(\"/kaggle/input/shoes-data/shoe.csv\")"
   ]
  },
  {
   "cell_type": "code",
   "execution_count": 3,
   "id": "3dfc8dad",
   "metadata": {
    "execution": {
     "iopub.execute_input": "2023-05-22T14:43:29.080882Z",
     "iopub.status.busy": "2023-05-22T14:43:29.080459Z",
     "iopub.status.idle": "2023-05-22T14:43:29.112224Z",
     "shell.execute_reply": "2023-05-22T14:43:29.111020Z"
    },
    "papermill": {
     "duration": 0.04254,
     "end_time": "2023-05-22T14:43:29.115044",
     "exception": false,
     "start_time": "2023-05-22T14:43:29.072504",
     "status": "completed"
    },
    "tags": []
   },
   "outputs": [
    {
     "data": {
      "text/html": [
       "<div>\n",
       "<style scoped>\n",
       "    .dataframe tbody tr th:only-of-type {\n",
       "        vertical-align: middle;\n",
       "    }\n",
       "\n",
       "    .dataframe tbody tr th {\n",
       "        vertical-align: top;\n",
       "    }\n",
       "\n",
       "    .dataframe thead th {\n",
       "        text-align: right;\n",
       "    }\n",
       "</style>\n",
       "<table border=\"1\" class=\"dataframe\">\n",
       "  <thead>\n",
       "    <tr style=\"text-align: right;\">\n",
       "      <th></th>\n",
       "      <th>size(cm)</th>\n",
       "      <th>class(y)</th>\n",
       "    </tr>\n",
       "  </thead>\n",
       "  <tbody>\n",
       "    <tr>\n",
       "      <th>0</th>\n",
       "      <td>9.500</td>\n",
       "      <td>Female</td>\n",
       "    </tr>\n",
       "    <tr>\n",
       "      <th>1</th>\n",
       "      <td>10.125</td>\n",
       "      <td>Male</td>\n",
       "    </tr>\n",
       "    <tr>\n",
       "      <th>2</th>\n",
       "      <td>10.410</td>\n",
       "      <td>Male</td>\n",
       "    </tr>\n",
       "    <tr>\n",
       "      <th>3</th>\n",
       "      <td>9.810</td>\n",
       "      <td>Female</td>\n",
       "    </tr>\n",
       "    <tr>\n",
       "      <th>4</th>\n",
       "      <td>11.050</td>\n",
       "      <td>Male</td>\n",
       "    </tr>\n",
       "  </tbody>\n",
       "</table>\n",
       "</div>"
      ],
      "text/plain": [
       "   size(cm) class(y)\n",
       "0     9.500   Female\n",
       "1    10.125     Male\n",
       "2    10.410     Male\n",
       "3     9.810   Female\n",
       "4    11.050     Male"
      ]
     },
     "execution_count": 3,
     "metadata": {},
     "output_type": "execute_result"
    }
   ],
   "source": [
    "df.head()"
   ]
  },
  {
   "cell_type": "code",
   "execution_count": 4,
   "id": "7c5e54f7",
   "metadata": {
    "execution": {
     "iopub.execute_input": "2023-05-22T14:43:29.129949Z",
     "iopub.status.busy": "2023-05-22T14:43:29.129470Z",
     "iopub.status.idle": "2023-05-22T14:43:29.393595Z",
     "shell.execute_reply": "2023-05-22T14:43:29.392583Z"
    },
    "papermill": {
     "duration": 0.274359,
     "end_time": "2023-05-22T14:43:29.395959",
     "exception": false,
     "start_time": "2023-05-22T14:43:29.121600",
     "status": "completed"
    },
    "tags": []
   },
   "outputs": [
    {
     "data": {
      "text/plain": [
       "<matplotlib.collections.PathCollection at 0x7baca79a2140>"
      ]
     },
     "execution_count": 4,
     "metadata": {},
     "output_type": "execute_result"
    },
    {
     "data": {
      "image/png": "[encoded data removed]",
      "text/plain": [
       "<Figure size 640x480 with 1 Axes>"
      ]
     },
     "metadata": {},
     "output_type": "display_data"
    }
   ],
   "source": [
    "plt.scatter(df[\"size(cm)\"],df[\"class(y)\"])"
   ]
  },
  {
   "cell_type": "code",
   "execution_count": 5,
   "id": "fdd85ba4",
   "metadata": {
    "execution": {
     "iopub.execute_input": "2023-05-22T14:43:29.412109Z",
     "iopub.status.busy": "2023-05-22T14:43:29.410981Z",
     "iopub.status.idle": "2023-05-22T14:43:29.417372Z",
     "shell.execute_reply": "2023-05-22T14:43:29.416524Z"
    },
    "papermill": {
     "duration": 0.01689,
     "end_time": "2023-05-22T14:43:29.419703",
     "exception": false,
     "start_time": "2023-05-22T14:43:29.402813",
     "status": "completed"
    },
    "tags": []
   },
   "outputs": [],
   "source": [
    "df[\"class(y)\"] = df[\"class(y)\"].replace([\"Female\",\"Male\"],[0,1])"
   ]
  },
  {
   "cell_type": "code",
   "execution_count": 6,
   "id": "37c1bb9c",
   "metadata": {
    "execution": {
     "iopub.execute_input": "2023-05-22T14:43:29.435084Z",
     "iopub.status.busy": "2023-05-22T14:43:29.434676Z",
     "iopub.status.idle": "2023-05-22T14:43:29.446343Z",
     "shell.execute_reply": "2023-05-22T14:43:29.445121Z"
    },
    "papermill": {
     "duration": 0.022356,
     "end_time": "2023-05-22T14:43:29.448903",
     "exception": false,
     "start_time": "2023-05-22T14:43:29.426547",
     "status": "completed"
    },
    "tags": []
   },
   "outputs": [
    {
     "data": {
      "text/html": [
       "<div>\n",
       "<style scoped>\n",
       "    .dataframe tbody tr th:only-of-type {\n",
       "        vertical-align: middle;\n",
       "    }\n",
       "\n",
       "    .dataframe tbody tr th {\n",
       "        vertical-align: top;\n",
       "    }\n",
       "\n",
       "    .dataframe thead th {\n",
       "        text-align: right;\n",
       "    }\n",
       "</style>\n",
       "<table border=\"1\" class=\"dataframe\">\n",
       "  <thead>\n",
       "    <tr style=\"text-align: right;\">\n",
       "      <th></th>\n",
       "      <th>size(cm)</th>\n",
       "      <th>class(y)</th>\n",
       "    </tr>\n",
       "  </thead>\n",
       "  <tbody>\n",
       "    <tr>\n",
       "      <th>0</th>\n",
       "      <td>9.500</td>\n",
       "      <td>0</td>\n",
       "    </tr>\n",
       "    <tr>\n",
       "      <th>1</th>\n",
       "      <td>10.125</td>\n",
       "      <td>1</td>\n",
       "    </tr>\n",
       "    <tr>\n",
       "      <th>2</th>\n",
       "      <td>10.410</td>\n",
       "      <td>1</td>\n",
       "    </tr>\n",
       "    <tr>\n",
       "      <th>3</th>\n",
       "      <td>9.810</td>\n",
       "      <td>0</td>\n",
       "    </tr>\n",
       "    <tr>\n",
       "      <th>4</th>\n",
       "      <td>11.050</td>\n",
       "      <td>1</td>\n",
       "    </tr>\n",
       "  </tbody>\n",
       "</table>\n",
       "</div>"
      ],
      "text/plain": [
       "   size(cm)  class(y)\n",
       "0     9.500         0\n",
       "1    10.125         1\n",
       "2    10.410         1\n",
       "3     9.810         0\n",
       "4    11.050         1"
      ]
     },
     "execution_count": 6,
     "metadata": {},
     "output_type": "execute_result"
    }
   ],
   "source": [
    "df.head()"
   ]
  },
  {
   "cell_type": "code",
   "execution_count": 7,
   "id": "9676199c",
   "metadata": {
    "execution": {
     "iopub.execute_input": "2023-05-22T14:43:29.465454Z",
     "iopub.status.busy": "2023-05-22T14:43:29.465043Z",
     "iopub.status.idle": "2023-05-22T14:43:29.728315Z",
     "shell.execute_reply": "2023-05-22T14:43:29.727084Z"
    },
    "papermill": {
     "duration": 0.274853,
     "end_time": "2023-05-22T14:43:29.730973",
     "exception": false,
     "start_time": "2023-05-22T14:43:29.456120",
     "status": "completed"
    },
    "tags": []
   },
   "outputs": [
    {
     "data": {
      "text/plain": [
       "<matplotlib.collections.PathCollection at 0x7baca7cca110>"
      ]
     },
     "execution_count": 7,
     "metadata": {},
     "output_type": "execute_result"
    },
    {
     "data": {
      "image/png": "[encoded data removed]",
      "text/plain": [
       "<Figure size 640x480 with 1 Axes>"
      ]
     },
     "metadata": {},
     "output_type": "display_data"
    }
   ],
   "source": [
    "plt.scatter(df[\"size(cm)\"],df[\"class(y)\"])"
   ]
  },
  {
   "cell_type": "code",
   "execution_count": 8,
   "id": "f413295d",
   "metadata": {
    "execution": {
     "iopub.execute_input": "2023-05-22T14:43:29.747871Z",
     "iopub.status.busy": "2023-05-22T14:43:29.747440Z",
     "iopub.status.idle": "2023-05-22T14:43:31.281769Z",
     "shell.execute_reply": "2023-05-22T14:43:31.280602Z"
    },
    "papermill": {
     "duration": 1.546781,
     "end_time": "2023-05-22T14:43:31.285225",
     "exception": false,
     "start_time": "2023-05-22T14:43:29.738444",
     "status": "completed"
    },
    "tags": []
   },
   "outputs": [
    {
     "name": "stderr",
     "output_type": "stream",
     "text": [
      "/opt/conda/lib/python3.10/site-packages/scipy/__init__.py:146: UserWarning: A NumPy version >=1.16.5 and <1.23.0 is required for this version of SciPy (detected version 1.23.5\n",
      "  warnings.warn(f\"A NumPy version >={np_minversion} and <{np_maxversion}\"\n"
     ]
    }
   ],
   "source": [
    "from sklearn.linear_model import LogisticRegression"
   ]
  },
  {
   "cell_type": "code",
   "execution_count": 9,
   "id": "9c9caea2",
   "metadata": {
    "execution": {
     "iopub.execute_input": "2023-05-22T14:43:31.302007Z",
     "iopub.status.busy": "2023-05-22T14:43:31.301586Z",
     "iopub.status.idle": "2023-05-22T14:43:31.306798Z",
     "shell.execute_reply": "2023-05-22T14:43:31.305635Z"
    },
    "papermill": {
     "duration": 0.016997,
     "end_time": "2023-05-22T14:43:31.309712",
     "exception": false,
     "start_time": "2023-05-22T14:43:31.292715",
     "status": "completed"
    },
    "tags": []
   },
   "outputs": [],
   "source": [
    "logit = LogisticRegression()"
   ]
  },
  {
   "cell_type": "code",
   "execution_count": 10,
   "id": "d9fb31a7",
   "metadata": {
    "execution": {
     "iopub.execute_input": "2023-05-22T14:43:31.327865Z",
     "iopub.status.busy": "2023-05-22T14:43:31.326736Z",
     "iopub.status.idle": "2023-05-22T14:43:31.367237Z",
     "shell.execute_reply": "2023-05-22T14:43:31.366273Z"
    },
    "papermill": {
     "duration": 0.052036,
     "end_time": "2023-05-22T14:43:31.369484",
     "exception": false,
     "start_time": "2023-05-22T14:43:31.317448",
     "status": "completed"
    },
    "tags": []
   },
   "outputs": [
    {
     "name": "stderr",
     "output_type": "stream",
     "text": [
      "/opt/conda/lib/python3.10/site-packages/sklearn/utils/validation.py:1143: DataConversionWarning: A column-vector y was passed when a 1d array was expected. Please change the shape of y to (n_samples, ), for example using ravel().\n",
      "  y = column_or_1d(y, warn=True)\n"
     ]
    },
    {
     "data": {
      "text/html": [
       "<style>#sk-container-id-1 {color: black;background-color: white;}#sk-container-id-1 pre{padding: 0;}#sk-container-id-1 div.sk-toggleable {background-color: white;}#sk-container-id-1 label.sk-toggleable__label {cursor: pointer;display: block;width: 100%;margin-bottom: 0;padding: 0.3em;box-sizing: border-box;text-align: center;}#sk-container-id-1 label.sk-toggleable__label-arrow:before {content: \"▸\";float: left;margin-right: 0.25em;color: #696969;}#sk-container-id-1 label.sk-toggleable__label-arrow:hover:before {color: black;}#sk-container-id-1 div.sk-estimator:hover label.sk-toggleable__label-arrow:before {color: black;}#sk-container-id-1 div.sk-toggleable__content {max-height: 0;max-width: 0;overflow: hidden;text-align: left;background-color: #f0f8ff;}#sk-container-id-1 div.sk-toggleable__content pre {margin: 0.2em;color: black;border-radius: 0.25em;background-color: #f0f8ff;}#sk-container-id-1 input.sk-toggleable__control:checked~div.sk-toggleable__content {max-height: 200px;max-width: 100%;overflow: auto;}#sk-container-id-1 input.sk-toggleable__control:checked~label.sk-toggleable__label-arrow:before {content: \"▾\";}#sk-container-id-1 div.sk-estimator input.sk-toggleable__control:checked~label.sk-toggleable__label {background-color: #d4ebff;}#sk-container-id-1 div.sk-label input.sk-toggleable__control:checked~label.sk-toggleable__label {background-color: #d4ebff;}#sk-container-id-1 input.sk-hidden--visually {border: 0;clip: rect(1px 1px 1px 1px);clip: rect(1px, 1px, 1px, 1px);height: 1px;margin: -1px;overflow: hidden;padding: 0;position: absolute;width: 1px;}#sk-container-id-1 div.sk-estimator {font-family: monospace;background-color: #f0f8ff;border: 1px dotted black;border-radius: 0.25em;box-sizing: border-box;margin-bottom: 0.5em;}#sk-container-id-1 div.sk-estimator:hover {background-color: #d4ebff;}#sk-container-id-1 div.sk-parallel-item::after {content: \"\";width: 100%;border-bottom: 1px solid gray;flex-grow: 1;}#sk-container-id-1 div.sk-label:hover label.sk-toggleable__label {background-color: #d4ebff;}#sk-container-id-1 div.sk-serial::before {content: \"\";position: absolute;border-left: 1px solid gray;box-sizing: border-box;top: 0;bottom: 0;left: 50%;z-index: 0;}#sk-container-id-1 div.sk-serial {display: flex;flex-direction: column;align-items: center;background-color: white;padding-right: 0.2em;padding-left: 0.2em;position: relative;}#sk-container-id-1 div.sk-item {position: relative;z-index: 1;}#sk-container-id-1 div.sk-parallel {display: flex;align-items: stretch;justify-content: center;background-color: white;position: relative;}#sk-container-id-1 div.sk-item::before, #sk-container-id-1 div.sk-parallel-item::before {content: \"\";position: absolute;border-left: 1px solid gray;box-sizing: border-box;top: 0;bottom: 0;left: 50%;z-index: -1;}#sk-container-id-1 div.sk-parallel-item {display: flex;flex-direction: column;z-index: 1;position: relative;background-color: white;}#sk-container-id-1 div.sk-parallel-item:first-child::after {align-self: flex-end;width: 50%;}#sk-container-id-1 div.sk-parallel-item:last-child::after {align-self: flex-start;width: 50%;}#sk-container-id-1 div.sk-parallel-item:only-child::after {width: 0;}#sk-container-id-1 div.sk-dashed-wrapped {border: 1px dashed gray;margin: 0 0.4em 0.5em 0.4em;box-sizing: border-box;padding-bottom: 0.4em;background-color: white;}#sk-container-id-1 div.sk-label label {font-family: monospace;font-weight: bold;display: inline-block;line-height: 1.2em;}#sk-container-id-1 div.sk-label-container {text-align: center;}#sk-container-id-1 div.sk-container {/* jupyter's `normalize.less` sets `[hidden] { display: none; }` but bootstrap.min.css set `[hidden] { display: none !important; }` so we also need the `!important` here to be able to override the default hidden behavior on the sphinx rendered scikit-learn.org. See: https://github.com/scikit-learn/scikit-learn/issues/21755 */display: inline-block !important;position: relative;}#sk-container-id-1 div.sk-text-repr-fallback {display: none;}</style><div id=\"sk-container-id-1\" class=\"sk-top-container\"><div class=\"sk-text-repr-fallback\"><pre>LogisticRegression()</pre><b>In a Jupyter environment, please rerun this cell to show the HTML representation or trust the notebook. <br />On GitHub, the HTML representation is unable to render, please try loading this page with nbviewer.org.</b></div><div class=\"sk-container\" hidden><div class=\"sk-item\"><div class=\"sk-estimator sk-toggleable\"><input class=\"sk-toggleable__control sk-hidden--visually\" id=\"sk-estimator-id-1\" type=\"checkbox\" checked><label for=\"sk-estimator-id-1\" class=\"sk-toggleable__label sk-toggleable__label-arrow\">LogisticRegression</label><div class=\"sk-toggleable__content\"><pre>LogisticRegression()</pre></div></div></div></div></div>"
      ],
      "text/plain": [
       "LogisticRegression()"
      ]
     },
     "execution_count": 10,
     "metadata": {},
     "output_type": "execute_result"
    }
   ],
   "source": [
    "logit.fit(df[[\"size(cm)\"]],df[[\"class(y)\"]])"
   ]
  },
  {
   "cell_type": "code",
   "execution_count": 11,
   "id": "10d02f83",
   "metadata": {
    "execution": {
     "iopub.execute_input": "2023-05-22T14:43:31.388028Z",
     "iopub.status.busy": "2023-05-22T14:43:31.387238Z",
     "iopub.status.idle": "2023-05-22T14:43:31.397918Z",
     "shell.execute_reply": "2023-05-22T14:43:31.396577Z"
    },
    "papermill": {
     "duration": 0.02324,
     "end_time": "2023-05-22T14:43:31.400793",
     "exception": false,
     "start_time": "2023-05-22T14:43:31.377553",
     "status": "completed"
    },
    "tags": []
   },
   "outputs": [
    {
     "data": {
      "text/plain": [
       "array([0, 1, 1, 0, 1, 0, 0, 1, 0, 0, 0, 1, 1, 1, 1, 1, 1, 0, 1, 1, 1, 0,\n",
       "       0, 1, 0, 1, 1, 1, 1, 1, 1, 0, 1, 0, 1, 0, 0, 1, 0, 0])"
      ]
     },
     "execution_count": 11,
     "metadata": {},
     "output_type": "execute_result"
    }
   ],
   "source": [
    "logit.predict(df[[\"size(cm)\"]])"
   ]
  },
  {
   "cell_type": "code",
   "execution_count": 12,
   "id": "6c7a238e",
   "metadata": {
    "execution": {
     "iopub.execute_input": "2023-05-22T14:43:31.420152Z",
     "iopub.status.busy": "2023-05-22T14:43:31.418868Z",
     "iopub.status.idle": "2023-05-22T14:43:31.424161Z",
     "shell.execute_reply": "2023-05-22T14:43:31.423073Z"
    },
    "papermill": {
     "duration": 0.018119,
     "end_time": "2023-05-22T14:43:31.427173",
     "exception": false,
     "start_time": "2023-05-22T14:43:31.409054",
     "status": "completed"
    },
    "tags": []
   },
   "outputs": [],
   "source": [
    "import numpy as np"
   ]
  },
  {
   "cell_type": "code",
   "execution_count": 13,
   "id": "d5caa368",
   "metadata": {
    "execution": {
     "iopub.execute_input": "2023-05-22T14:43:31.445568Z",
     "iopub.status.busy": "2023-05-22T14:43:31.445108Z",
     "iopub.status.idle": "2023-05-22T14:43:31.453154Z",
     "shell.execute_reply": "2023-05-22T14:43:31.451863Z"
    },
    "papermill": {
     "duration": 0.020182,
     "end_time": "2023-05-22T14:43:31.455499",
     "exception": false,
     "start_time": "2023-05-22T14:43:31.435317",
     "status": "completed"
    },
    "tags": []
   },
   "outputs": [
    {
     "data": {
      "text/plain": [
       "array([0, 1, 1, 0, 1, 0, 0, 1, 0, 0, 0, 1, 1, 1, 1, 1, 0, 0, 1, 1, 1, 0,\n",
       "       0, 1, 0, 1, 1, 1, 1, 1, 0, 0, 1, 0, 1, 0, 0, 1, 0, 1])"
      ]
     },
     "execution_count": 13,
     "metadata": {},
     "output_type": "execute_result"
    }
   ],
   "source": [
    "np.array(df[\"class(y)\"])"
   ]
  },
  {
   "cell_type": "code",
   "execution_count": 14,
   "id": "e241cf32",
   "metadata": {
    "execution": {
     "iopub.execute_input": "2023-05-22T14:43:31.474018Z",
     "iopub.status.busy": "2023-05-22T14:43:31.473563Z",
     "iopub.status.idle": "2023-05-22T14:43:31.484293Z",
     "shell.execute_reply": "2023-05-22T14:43:31.483406Z"
    },
    "papermill": {
     "duration": 0.022969,
     "end_time": "2023-05-22T14:43:31.486696",
     "exception": false,
     "start_time": "2023-05-22T14:43:31.463727",
     "status": "completed"
    },
    "tags": []
   },
   "outputs": [
    {
     "data": {
      "text/plain": [
       "array([[0.77302845, 0.22697155],\n",
       "       [0.39738242, 0.60261758],\n",
       "       [0.2377457 , 0.7622543 ],\n",
       "       [0.6013567 , 0.3986433 ],\n",
       "       [0.05486986, 0.94513014],\n",
       "       [0.8951951 , 0.1048049 ],\n",
       "       [0.79524583, 0.20475417],\n",
       "       [0.17003227, 0.82996773],\n",
       "       [0.66235827, 0.33764173],\n",
       "       [0.69665958, 0.30334042],\n",
       "       [0.59504263, 0.40495737],\n",
       "       [0.23301782, 0.76698218],\n",
       "       [0.35729164, 0.64270836],\n",
       "       [0.07737361, 0.92262639],\n",
       "       [0.17757582, 0.82242418],\n",
       "       [0.11860381, 0.88139619],\n",
       "       [0.46492055, 0.53507945],\n",
       "       [0.52395197, 0.47604803],\n",
       "       [0.29398481, 0.70601519],\n",
       "       [0.16274575, 0.83725425],\n",
       "       [0.38176611, 0.61823389],\n",
       "       [0.83473184, 0.16526816],\n",
       "       [0.88221669, 0.11778331],\n",
       "       [0.1392146 , 0.8607854 ],\n",
       "       [0.71305157, 0.28694843],\n",
       "       [0.21476669, 0.78523331],\n",
       "       [0.2994667 , 0.7005333 ],\n",
       "       [0.09833362, 0.90166638],\n",
       "       [0.2192301 , 0.7807699 ],\n",
       "       [0.11860381, 0.88139619],\n",
       "       [0.45187724, 0.54812276],\n",
       "       [0.53703735, 0.46296265],\n",
       "       [0.24253916, 0.75746084],\n",
       "       [0.72890245, 0.27109755],\n",
       "       [0.3755854 , 0.6244146 ],\n",
       "       [0.85206517, 0.14793483],\n",
       "       [0.87945944, 0.12054056],\n",
       "       [0.17377172, 0.82622828],\n",
       "       [0.7236803 , 0.2763197 ],\n",
       "       [0.84531926, 0.15468074]])"
      ]
     },
     "execution_count": 14,
     "metadata": {},
     "output_type": "execute_result"
    }
   ],
   "source": [
    "logit.predict_proba(df[[\"size(cm)\"]])"
   ]
  },
  {
   "cell_type": "code",
   "execution_count": 15,
   "id": "0ca92fec",
   "metadata": {
    "execution": {
     "iopub.execute_input": "2023-05-22T14:43:31.505694Z",
     "iopub.status.busy": "2023-05-22T14:43:31.504972Z",
     "iopub.status.idle": "2023-05-22T14:43:31.512308Z",
     "shell.execute_reply": "2023-05-22T14:43:31.511129Z"
    },
    "papermill": {
     "duration": 0.019602,
     "end_time": "2023-05-22T14:43:31.514762",
     "exception": false,
     "start_time": "2023-05-22T14:43:31.495160",
     "status": "completed"
    },
    "tags": []
   },
   "outputs": [
    {
     "data": {
      "text/plain": [
       "array([[2.62699981]])"
      ]
     },
     "execution_count": 15,
     "metadata": {},
     "output_type": "execute_result"
    }
   ],
   "source": [
    "logit.coef_"
   ]
  },
  {
   "cell_type": "code",
   "execution_count": 16,
   "id": "babd27ae",
   "metadata": {
    "execution": {
     "iopub.execute_input": "2023-05-22T14:43:31.534011Z",
     "iopub.status.busy": "2023-05-22T14:43:31.533520Z",
     "iopub.status.idle": "2023-05-22T14:43:31.541719Z",
     "shell.execute_reply": "2023-05-22T14:43:31.540569Z"
    },
    "papermill": {
     "duration": 0.020603,
     "end_time": "2023-05-22T14:43:31.544057",
     "exception": false,
     "start_time": "2023-05-22T14:43:31.523454",
     "status": "completed"
    },
    "tags": []
   },
   "outputs": [
    {
     "data": {
      "text/plain": [
       "array([-26.18198935])"
      ]
     },
     "execution_count": 16,
     "metadata": {},
     "output_type": "execute_result"
    }
   ],
   "source": [
    "logit.intercept_"
   ]
  }
 ],
 "metadata": {
  "kernelspec": {
   "display_name": "Python 3",
   "language": "python",
   "name": "python3"
  },
  "language_info": {
   "codemirror_mode": {
    "name": "ipython",
    "version": 3
   },
   "file_extension": ".py",
   "mimetype": "text/x-python",
   "name": "python",
   "nbconvert_exporter": "python",
   "pygments_lexer": "ipython3",
   "version": "3.10.10"
  },
  "papermill": {
   "default_parameters": {},
   "duration": 16.5038,
   "end_time": "2023-05-22T14:43:32.576217",
   "environment_variables": {},
   "exception": null,
   "input_path": "__notebook__.ipynb",
   "output_path": "__notebook__.ipynb",
   "parameters": {},
   "start_time": "2023-05-22T14:43:16.072417",
   "version": "2.4.0"
  }
 },
 "nbformat": 4,
 "nbformat_minor": 5
}
